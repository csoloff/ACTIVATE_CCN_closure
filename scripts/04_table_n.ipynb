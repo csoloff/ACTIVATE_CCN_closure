{
 "cells": [
  {
   "cell_type": "code",
   "execution_count": 14,
   "metadata": {},
   "outputs": [],
   "source": [
    "import pandas as pd\n",
    "import numpy as np"
   ]
  },
  {
   "cell_type": "code",
   "execution_count": 15,
   "metadata": {},
   "outputs": [],
   "source": [
    "d = pd.read_csv('../tables/2024_03_11_merged_03.csv', parse_dates=['Time_Mid'])"
   ]
  },
  {
   "cell_type": "code",
   "execution_count": 16,
   "metadata": {},
   "outputs": [],
   "source": [
    "d['N_tot'] = d['nSMPS'] + d['nLAS_AmmSO4']\n",
    "d['OMF'] = d['Org_Ave_IsoK_STP'] / d['ams_tot']"
   ]
  },
  {
   "cell_type": "code",
   "execution_count": 17,
   "metadata": {},
   "outputs": [],
   "source": [
    "d = d.dropna(subset=['N_CCN_stdPT', 'N_tot', 'D_a', 'k_obs', 'OMF'])"
   ]
  },
  {
   "cell_type": "code",
   "execution_count": 18,
   "metadata": {},
   "outputs": [
    {
     "data": {
      "application/vnd.microsoft.datawrangler.viewer.v0+json": {
       "columns": [
        {
         "name": "index",
         "rawType": "int64",
         "type": "integer"
        },
        {
         "name": "Unique Value",
         "rawType": "float64",
         "type": "float"
        },
        {
         "name": "Count",
         "rawType": "int64",
         "type": "integer"
        }
       ],
       "conversionMethod": "pd.DataFrame",
       "ref": "0b4961b5-6e32-4612-98cb-f87562d7f13c",
       "rows": [
        [
         "66",
         "0.16",
         "9"
        ],
        [
         "92",
         "0.165",
         "6"
        ],
        [
         "23",
         "0.17",
         "21"
        ],
        [
         "90",
         "0.175",
         "6"
        ],
        [
         "40",
         "0.18",
         "14"
        ],
        [
         "104",
         "0.185",
         "4"
        ],
        [
         "36",
         "0.19",
         "15"
        ],
        [
         "86",
         "0.195",
         "7"
        ],
        [
         "51",
         "0.2",
         "12"
        ],
        [
         "94",
         "0.205",
         "6"
        ],
        [
         "29",
         "0.21",
         "19"
        ],
        [
         "76",
         "0.215",
         "8"
        ],
        [
         "67",
         "0.22",
         "9"
        ],
        [
         "114",
         "0.2249999999999999",
         "1"
        ],
        [
         "105",
         "0.225",
         "4"
        ],
        [
         "111",
         "0.2299999999999999",
         "3"
        ],
        [
         "39",
         "0.23",
         "14"
        ],
        [
         "80",
         "0.235",
         "8"
        ],
        [
         "38",
         "0.24",
         "15"
        ],
        [
         "110",
         "0.245",
         "3"
        ],
        [
         "60",
         "0.25",
         "10"
        ],
        [
         "79",
         "0.255",
         "8"
        ],
        [
         "56",
         "0.26",
         "11"
        ],
        [
         "69",
         "0.265",
         "9"
        ],
        [
         "26",
         "0.27",
         "20"
        ],
        [
         "54",
         "0.275",
         "11"
        ],
        [
         "64",
         "0.28",
         "9"
        ],
        [
         "103",
         "0.285",
         "5"
        ],
        [
         "44",
         "0.29",
         "13"
        ],
        [
         "96",
         "0.295",
         "6"
        ],
        [
         "31",
         "0.3",
         "17"
        ],
        [
         "43",
         "0.305",
         "13"
        ],
        [
         "20",
         "0.31",
         "28"
        ],
        [
         "106",
         "0.315",
         "4"
        ],
        [
         "19",
         "0.32",
         "32"
        ],
        [
         "93",
         "0.325",
         "6"
        ],
        [
         "15",
         "0.33",
         "40"
        ],
        [
         "84",
         "0.335",
         "8"
        ],
        [
         "115",
         "0.3399999999999999",
         "1"
        ],
        [
         "16",
         "0.34",
         "34"
        ],
        [
         "98",
         "0.345",
         "6"
        ],
        [
         "14",
         "0.35",
         "47"
        ],
        [
         "42",
         "0.355",
         "14"
        ],
        [
         "8",
         "0.36",
         "111"
        ],
        [
         "72",
         "0.365",
         "9"
        ],
        [
         "0",
         "0.37",
         "8568"
        ],
        [
         "49",
         "0.375",
         "12"
        ],
        [
         "28",
         "0.38",
         "19"
        ],
        [
         "62",
         "0.385",
         "10"
        ],
        [
         "61",
         "0.39",
         "10"
        ]
       ],
       "shape": {
        "columns": 2,
        "rows": 117
       }
      },
      "text/html": [
       "<div>\n",
       "<style scoped>\n",
       "    .dataframe tbody tr th:only-of-type {\n",
       "        vertical-align: middle;\n",
       "    }\n",
       "\n",
       "    .dataframe tbody tr th {\n",
       "        vertical-align: top;\n",
       "    }\n",
       "\n",
       "    .dataframe thead th {\n",
       "        text-align: right;\n",
       "    }\n",
       "</style>\n",
       "<table border=\"1\" class=\"dataframe\">\n",
       "  <thead>\n",
       "    <tr style=\"text-align: right;\">\n",
       "      <th></th>\n",
       "      <th>Unique Value</th>\n",
       "      <th>Count</th>\n",
       "    </tr>\n",
       "  </thead>\n",
       "  <tbody>\n",
       "    <tr>\n",
       "      <th>66</th>\n",
       "      <td>0.160</td>\n",
       "      <td>9</td>\n",
       "    </tr>\n",
       "    <tr>\n",
       "      <th>92</th>\n",
       "      <td>0.165</td>\n",
       "      <td>6</td>\n",
       "    </tr>\n",
       "    <tr>\n",
       "      <th>23</th>\n",
       "      <td>0.170</td>\n",
       "      <td>21</td>\n",
       "    </tr>\n",
       "    <tr>\n",
       "      <th>90</th>\n",
       "      <td>0.175</td>\n",
       "      <td>6</td>\n",
       "    </tr>\n",
       "    <tr>\n",
       "      <th>40</th>\n",
       "      <td>0.180</td>\n",
       "      <td>14</td>\n",
       "    </tr>\n",
       "    <tr>\n",
       "      <th>...</th>\n",
       "      <td>...</td>\n",
       "      <td>...</td>\n",
       "    </tr>\n",
       "    <tr>\n",
       "      <th>102</th>\n",
       "      <td>0.695</td>\n",
       "      <td>5</td>\n",
       "    </tr>\n",
       "    <tr>\n",
       "      <th>48</th>\n",
       "      <td>0.700</td>\n",
       "      <td>12</td>\n",
       "    </tr>\n",
       "    <tr>\n",
       "      <th>97</th>\n",
       "      <td>0.705</td>\n",
       "      <td>6</td>\n",
       "    </tr>\n",
       "    <tr>\n",
       "      <th>22</th>\n",
       "      <td>0.710</td>\n",
       "      <td>22</td>\n",
       "    </tr>\n",
       "    <tr>\n",
       "      <th>116</th>\n",
       "      <td>0.715</td>\n",
       "      <td>1</td>\n",
       "    </tr>\n",
       "  </tbody>\n",
       "</table>\n",
       "<p>117 rows × 2 columns</p>\n",
       "</div>"
      ],
      "text/plain": [
       "     Unique Value  Count\n",
       "66          0.160      9\n",
       "92          0.165      6\n",
       "23          0.170     21\n",
       "90          0.175      6\n",
       "40          0.180     14\n",
       "..            ...    ...\n",
       "102         0.695      5\n",
       "48          0.700     12\n",
       "97          0.705      6\n",
       "22          0.710     22\n",
       "116         0.715      1\n",
       "\n",
       "[117 rows x 2 columns]"
      ]
     },
     "execution_count": 18,
     "metadata": {},
     "output_type": "execute_result"
    }
   ],
   "source": [
    "# Get the count of each unique value in the 'CCN_SS' column\n",
    "value_counts = d['CCN_SS'].value_counts()\n",
    "\n",
    "# Convert the Series to a DataFrame for better presentation\n",
    "value_counts_df = value_counts.reset_index()\n",
    "value_counts_df.columns = ['Unique Value', 'Count']\n",
    "value_counts_df.sort_values(by='Unique Value', inplace=True)\n",
    "value_counts_df"
   ]
  },
  {
   "cell_type": "code",
   "execution_count": 19,
   "metadata": {},
   "outputs": [],
   "source": [
    "d = d[(d['CCN_SS'] >= 0.37) & (d['CCN_SS'] <= 0.43)]"
   ]
  },
  {
   "cell_type": "code",
   "execution_count": 20,
   "metadata": {},
   "outputs": [],
   "source": [
    "transit_flights = [pd.Timestamp('2022-03-22').date(), pd.Timestamp('2022-05-18').date(), pd.Timestamp('2022-05-21').date(), pd.Timestamp('2022-05-31').date(), pd.Timestamp('2022-06-18').date()]\n",
    "df_winter = d[d['Time_Mid'].dt.month.isin([11, 12, 1, 2, 3, 4]) & (~d['Time_Mid'].dt.date.isin(transit_flights))]\n",
    "df_spring = d[d['Time_Mid'].dt.month.isin([5, 6]) & (np.logical_not((d['Time_Mid'].dt.month.isin([6])) & (d['Time_Mid'].dt.year.isin([2022])))) & (~d['Time_Mid'].dt.date.isin(transit_flights))]\n",
    "df_summer = d[d['Time_Mid'].dt.month.isin([8, 9]) & (~d['Time_Mid'].dt.date.isin(transit_flights))]\n",
    "df_bermuda = d[(d['Time_Mid'].dt.month.isin([6])) & (d['Time_Mid'].dt.year.isin([2022])) & (~d['Time_Mid'].dt.date.isin(transit_flights))]"
   ]
  },
  {
   "cell_type": "code",
   "execution_count": 21,
   "metadata": {},
   "outputs": [],
   "source": [
    "ds = [df_winter, df_spring, df_summer, df_bermuda]"
   ]
  },
  {
   "cell_type": "code",
   "execution_count": 29,
   "metadata": {},
   "outputs": [
    {
     "name": "stdout",
     "output_type": "stream",
     "text": [
      "2020-02-14 20:03:31.500000 2022-03-26 21:23:47.500000\n",
      "2021-05-13 17:05:52.500000 2021-06-30 20:33:07.500000\n",
      "2020-08-17 14:30:39.500000 2020-08-28 19:53:18.500000\n",
      "2022-06-03 14:46:23.500000 2022-06-17 16:56:17.500000\n"
     ]
    }
   ],
   "source": [
    "for i in range(len(ds)):\n",
    "    print(ds[i]['Time_Mid'].min(), ds[i]['Time_Mid'].max())"
   ]
  },
  {
   "cell_type": "code",
   "execution_count": 22,
   "metadata": {},
   "outputs": [],
   "source": [
    "d_out = pd.DataFrame(columns = ['N', 'N_CCN', 'N_tot', 'D_c', 'k_obs', 'OMF'])"
   ]
  },
  {
   "cell_type": "code",
   "execution_count": 23,
   "metadata": {},
   "outputs": [],
   "source": [
    "def print_cell(d, dgts=0):\n",
    "    return f\"{d.median():.{dgts}f} ({d.quantile(.25):.{dgts}f}, {d.quantile(.75):.{dgts}f})\""
   ]
  },
  {
   "cell_type": "code",
   "execution_count": 24,
   "metadata": {},
   "outputs": [],
   "source": [
    "for i in range(0,4):\n",
    "    d_out.loc[i,'N'] = ds[i].shape[0]\n",
    "    d_out.loc[i,'N_CCN'] = print_cell(ds[i]['N_CCN_stdPT'])\n",
    "    d_out.loc[i,'N_tot'] = print_cell(ds[i]['N_tot'])\n",
    "    d_out.loc[i,'D_c'] = print_cell(ds[i]['D_a'], 1)\n",
    "    d_out.loc[i,'k_obs'] = print_cell(ds[i]['k_obs'], 2)\n",
    "    d_out.loc[i,'OMF'] = print_cell(ds[i]['OMF'], 2)"
   ]
  },
  {
   "cell_type": "code",
   "execution_count": 25,
   "metadata": {},
   "outputs": [
    {
     "data": {
      "application/vnd.microsoft.datawrangler.viewer.v0+json": {
       "columns": [
        {
         "name": "index",
         "rawType": "int64",
         "type": "integer"
        },
        {
         "name": "N",
         "rawType": "object",
         "type": "unknown"
        },
        {
         "name": "N_CCN",
         "rawType": "object",
         "type": "string"
        },
        {
         "name": "N_tot",
         "rawType": "object",
         "type": "string"
        },
        {
         "name": "D_c",
         "rawType": "object",
         "type": "string"
        },
        {
         "name": "k_obs",
         "rawType": "object",
         "type": "string"
        },
        {
         "name": "OMF",
         "rawType": "object",
         "type": "string"
        }
       ],
       "conversionMethod": "pd.DataFrame",
       "ref": "e103d0a4-dbf9-48ea-a428-c63e94b319ef",
       "rows": [
        [
         "0",
         "4969",
         "460 (224, 817)",
         "1600 (834, 3300)",
         "75.0 (64.6, 88.7)",
         "0.29 (0.17, 0.47)",
         "0.46 (0.35, 0.59)"
        ],
        [
         "1",
         "3411",
         "487 (272, 906)",
         "1035 (564, 2148)",
         "78.0 (65.0, 86.4)",
         "0.27 (0.20, 0.47)",
         "0.58 (0.33, 0.73)"
        ],
        [
         "2",
         "34",
         "641 (236, 1321)",
         "1542 (919, 2332)",
         "75.2 (64.2, 138.2)",
         "0.27 (0.05, 0.47)",
         "0.64 (0.59, 0.74)"
        ],
        [
         "3",
         "806",
         "306 (243, 418)",
         "496 (390, 658)",
         "46.2 (41.4, 52.7)",
         "1.31 (0.88, 1.83)",
         "0.27 (0.17, 0.45)"
        ]
       ],
       "shape": {
        "columns": 6,
        "rows": 4
       }
      },
      "text/html": [
       "<div>\n",
       "<style scoped>\n",
       "    .dataframe tbody tr th:only-of-type {\n",
       "        vertical-align: middle;\n",
       "    }\n",
       "\n",
       "    .dataframe tbody tr th {\n",
       "        vertical-align: top;\n",
       "    }\n",
       "\n",
       "    .dataframe thead th {\n",
       "        text-align: right;\n",
       "    }\n",
       "</style>\n",
       "<table border=\"1\" class=\"dataframe\">\n",
       "  <thead>\n",
       "    <tr style=\"text-align: right;\">\n",
       "      <th></th>\n",
       "      <th>N</th>\n",
       "      <th>N_CCN</th>\n",
       "      <th>N_tot</th>\n",
       "      <th>D_c</th>\n",
       "      <th>k_obs</th>\n",
       "      <th>OMF</th>\n",
       "    </tr>\n",
       "  </thead>\n",
       "  <tbody>\n",
       "    <tr>\n",
       "      <th>0</th>\n",
       "      <td>4969</td>\n",
       "      <td>460 (224, 817)</td>\n",
       "      <td>1600 (834, 3300)</td>\n",
       "      <td>75.0 (64.6, 88.7)</td>\n",
       "      <td>0.29 (0.17, 0.47)</td>\n",
       "      <td>0.46 (0.35, 0.59)</td>\n",
       "    </tr>\n",
       "    <tr>\n",
       "      <th>1</th>\n",
       "      <td>3411</td>\n",
       "      <td>487 (272, 906)</td>\n",
       "      <td>1035 (564, 2148)</td>\n",
       "      <td>78.0 (65.0, 86.4)</td>\n",
       "      <td>0.27 (0.20, 0.47)</td>\n",
       "      <td>0.58 (0.33, 0.73)</td>\n",
       "    </tr>\n",
       "    <tr>\n",
       "      <th>2</th>\n",
       "      <td>34</td>\n",
       "      <td>641 (236, 1321)</td>\n",
       "      <td>1542 (919, 2332)</td>\n",
       "      <td>75.2 (64.2, 138.2)</td>\n",
       "      <td>0.27 (0.05, 0.47)</td>\n",
       "      <td>0.64 (0.59, 0.74)</td>\n",
       "    </tr>\n",
       "    <tr>\n",
       "      <th>3</th>\n",
       "      <td>806</td>\n",
       "      <td>306 (243, 418)</td>\n",
       "      <td>496 (390, 658)</td>\n",
       "      <td>46.2 (41.4, 52.7)</td>\n",
       "      <td>1.31 (0.88, 1.83)</td>\n",
       "      <td>0.27 (0.17, 0.45)</td>\n",
       "    </tr>\n",
       "  </tbody>\n",
       "</table>\n",
       "</div>"
      ],
      "text/plain": [
       "      N            N_CCN             N_tot                 D_c  \\\n",
       "0  4969   460 (224, 817)  1600 (834, 3300)   75.0 (64.6, 88.7)   \n",
       "1  3411   487 (272, 906)  1035 (564, 2148)   78.0 (65.0, 86.4)   \n",
       "2    34  641 (236, 1321)  1542 (919, 2332)  75.2 (64.2, 138.2)   \n",
       "3   806   306 (243, 418)    496 (390, 658)   46.2 (41.4, 52.7)   \n",
       "\n",
       "               k_obs                OMF  \n",
       "0  0.29 (0.17, 0.47)  0.46 (0.35, 0.59)  \n",
       "1  0.27 (0.20, 0.47)  0.58 (0.33, 0.73)  \n",
       "2  0.27 (0.05, 0.47)  0.64 (0.59, 0.74)  \n",
       "3  1.31 (0.88, 1.83)  0.27 (0.17, 0.45)  "
      ]
     },
     "execution_count": 25,
     "metadata": {},
     "output_type": "execute_result"
    }
   ],
   "source": [
    "d_out"
   ]
  },
  {
   "cell_type": "code",
   "execution_count": 26,
   "metadata": {},
   "outputs": [],
   "source": [
    "d_out.to_excel('../tables/summary_stats.xlsx', index=False)"
   ]
  }
 ],
 "metadata": {
  "kernelspec": {
   "display_name": ".venv",
   "language": "python",
   "name": "python3"
  },
  "language_info": {
   "codemirror_mode": {
    "name": "ipython",
    "version": 3
   },
   "file_extension": ".py",
   "mimetype": "text/x-python",
   "name": "python",
   "nbconvert_exporter": "python",
   "pygments_lexer": "ipython3",
   "version": "3.13.0"
  }
 },
 "nbformat": 4,
 "nbformat_minor": 2
}
