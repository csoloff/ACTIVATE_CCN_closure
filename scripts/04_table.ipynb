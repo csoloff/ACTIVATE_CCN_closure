{
 "cells": [
  {
   "cell_type": "code",
   "execution_count": 3,
   "metadata": {},
   "outputs": [],
   "source": [
    "import pandas as pd\n",
    "import numpy as np"
   ]
  },
  {
   "cell_type": "code",
   "execution_count": 4,
   "metadata": {},
   "outputs": [],
   "source": [
    "d = pd.read_csv('../tables/2024_03_11_merged_03.csv', parse_dates=['Time_Mid'])"
   ]
  },
  {
   "cell_type": "code",
   "execution_count": 5,
   "metadata": {},
   "outputs": [],
   "source": [
    "bin_labels = ['SMPS_Bin01', 'SMPS_Bin02', 'SMPS_Bin03', 'SMPS_Bin04', 'SMPS_Bin05',\n",
    "       'SMPS_Bin06', 'SMPS_Bin07', 'SMPS_Bin08', 'SMPS_Bin09', 'SMPS_Bin10',\n",
    "       'SMPS_Bin11', 'SMPS_Bin12', 'SMPS_Bin13', 'SMPS_Bin14', 'SMPS_Bin15',\n",
    "       'SMPS_Bin16', 'SMPS_Bin17', 'SMPS_Bin18', 'SMPS_Bin19', 'SMPS_Bin20',\n",
    "       'SMPS_Bin21', 'SMPS_Bin22', 'SMPS_Bin23', 'SMPS_Bin24', 'SMPS_Bin25',\n",
    "       'SMPS_Bin26', 'SMPS_Bin27', 'SMPS_Bin28', 'SMPS_Bin29', 'SMPS_Bin30', 'LAS_Bin01', 'LAS_Bin02', 'LAS_Bin03', 'LAS_Bin04', 'LAS_Bin05',\n",
    "       'LAS_Bin06', 'LAS_Bin07', 'LAS_Bin08', 'LAS_Bin09', 'LAS_Bin10',\n",
    "       'LAS_Bin11', 'LAS_Bin12', 'LAS_Bin13', 'LAS_Bin14', 'LAS_Bin15',\n",
    "       'LAS_Bin16', 'LAS_Bin17', 'LAS_Bin18', 'LAS_Bin19', 'LAS_Bin20',\n",
    "       'LAS_Bin21', 'LAS_Bin22', 'LAS_Bin23', 'LAS_Bin24', 'LAS_Bin25',\n",
    "       'LAS_Bin26']\n",
    "\n",
    "lower_bounds = [2.97, 3.36, 3.76, 4.22, 4.74, 5.32, 5.97, 6.69, 7.51, 8.43, 9.46, 10.6, 11.9, 13.4, 15.0, 16.8, 18.9, 21.2, 23.8, 26.7, 29.9, 33.6, 37.6, 42.2, 47.4, 53.2, 59.7, 66.9, 75.1, 84.3, 93.9, 106.1, 119.0, 133.6, 149.9, 168.2, 188.7, 211.7, 237.5, 266.5, 299.0, 335.5, 376.5, 422.4, 473.9, 531.8, 596.6, 669.5, 751.1, 842.8, 945.6, 1129.5, 1421.9, 1790.1, 2253.6, 2837.1]\n",
    "upper_bounds = [3.36, 3.76, 4.22, 4.74, 5.32, 5.97, 6.69, 7.51, 8.43, 9.46, 10.6, 11.9, 13.4, 15.0, 16.8, 18.9, 21.2, 23.8, 26.7, 29.9, 33.6, 37.6, 42.2, 47.4, 53.2, 59.7, 66.9, 75.1, 84.3, 94.0, 106.1, 119.0, 133.6, 149.9, 168.2, 188.7, 211.7, 237.5, 266.5, 299.0, 335.5, 376.5, 422.4, 473.9, 531.8, 596.6, 669.5, 751.1, 842.8, 945.6, 1129.5, 1421.9, 1790.1, 2253.6, 2837.1, 3487.5]\n",
    "\n",
    "dlogd=[]\n",
    "for i in range(0,len(lower_bounds)):\n",
    "       dlogd.append(np.log10(upper_bounds[i]) - np.log10(lower_bounds[i]))\n",
    "\n",
    "d['N_tot'] = (d[bin_labels] * dlogd).sum(axis=1)\n",
    "d['OMF'] = d['Org_Ave_IsoK_STP'] / d['ams_tot']\n",
    "d['f_SMPS_LAS'] = d[bin_labels].notna().mean(axis=1)"
   ]
  },
  {
   "cell_type": "code",
   "execution_count": 6,
   "metadata": {},
   "outputs": [],
   "source": [
    "d = d[d['f_SMPS_LAS'] > .95]"
   ]
  },
  {
   "cell_type": "code",
   "execution_count": 7,
   "metadata": {},
   "outputs": [],
   "source": [
    "d = d.dropna(subset=['N_CCN_stdPT', 'N_tot', 'D_a', 'k_obs', 'OMF'])"
   ]
  },
  {
   "cell_type": "code",
   "execution_count": 8,
   "metadata": {},
   "outputs": [
    {
     "data": {
      "application/vnd.microsoft.datawrangler.viewer.v0+json": {
       "columns": [
        {
         "name": "index",
         "rawType": "int64",
         "type": "integer"
        },
        {
         "name": "Unique Value",
         "rawType": "float64",
         "type": "float"
        },
        {
         "name": "Count",
         "rawType": "int64",
         "type": "integer"
        }
       ],
       "conversionMethod": "pd.DataFrame",
       "ref": "13d03efe-19d7-49ce-92c7-c803812b1438",
       "rows": [
        [
         "66",
         "0.16",
         "9"
        ],
        [
         "92",
         "0.165",
         "6"
        ],
        [
         "23",
         "0.17",
         "21"
        ],
        [
         "90",
         "0.175",
         "6"
        ],
        [
         "40",
         "0.18",
         "14"
        ],
        [
         "104",
         "0.185",
         "4"
        ],
        [
         "36",
         "0.19",
         "15"
        ],
        [
         "86",
         "0.195",
         "7"
        ],
        [
         "51",
         "0.2",
         "12"
        ],
        [
         "94",
         "0.205",
         "6"
        ],
        [
         "28",
         "0.21",
         "19"
        ],
        [
         "76",
         "0.215",
         "8"
        ],
        [
         "67",
         "0.22",
         "9"
        ],
        [
         "114",
         "0.2249999999999999",
         "1"
        ],
        [
         "105",
         "0.225",
         "4"
        ],
        [
         "111",
         "0.2299999999999999",
         "3"
        ],
        [
         "39",
         "0.23",
         "14"
        ],
        [
         "80",
         "0.235",
         "8"
        ],
        [
         "38",
         "0.24",
         "15"
        ],
        [
         "110",
         "0.245",
         "3"
        ],
        [
         "60",
         "0.25",
         "10"
        ],
        [
         "79",
         "0.255",
         "8"
        ],
        [
         "56",
         "0.26",
         "11"
        ],
        [
         "69",
         "0.265",
         "9"
        ],
        [
         "27",
         "0.27",
         "20"
        ],
        [
         "54",
         "0.275",
         "11"
        ],
        [
         "64",
         "0.28",
         "9"
        ],
        [
         "102",
         "0.285",
         "5"
        ],
        [
         "44",
         "0.29",
         "13"
        ],
        [
         "96",
         "0.295",
         "6"
        ],
        [
         "30",
         "0.3",
         "17"
        ],
        [
         "43",
         "0.305",
         "13"
        ],
        [
         "20",
         "0.31",
         "28"
        ],
        [
         "103",
         "0.315",
         "4"
        ],
        [
         "17",
         "0.32",
         "32"
        ],
        [
         "93",
         "0.325",
         "6"
        ],
        [
         "15",
         "0.33",
         "40"
        ],
        [
         "84",
         "0.335",
         "8"
        ],
        [
         "115",
         "0.3399999999999999",
         "1"
        ],
        [
         "16",
         "0.34",
         "33"
        ],
        [
         "97",
         "0.345",
         "6"
        ],
        [
         "14",
         "0.35",
         "45"
        ],
        [
         "42",
         "0.355",
         "14"
        ],
        [
         "8",
         "0.36",
         "109"
        ],
        [
         "72",
         "0.365",
         "9"
        ],
        [
         "0",
         "0.37",
         "8541"
        ],
        [
         "49",
         "0.375",
         "12"
        ],
        [
         "33",
         "0.38",
         "16"
        ],
        [
         "62",
         "0.385",
         "10"
        ],
        [
         "61",
         "0.39",
         "10"
        ]
       ],
       "shape": {
        "columns": 2,
        "rows": 117
       }
      },
      "text/html": [
       "<div>\n",
       "<style scoped>\n",
       "    .dataframe tbody tr th:only-of-type {\n",
       "        vertical-align: middle;\n",
       "    }\n",
       "\n",
       "    .dataframe tbody tr th {\n",
       "        vertical-align: top;\n",
       "    }\n",
       "\n",
       "    .dataframe thead th {\n",
       "        text-align: right;\n",
       "    }\n",
       "</style>\n",
       "<table border=\"1\" class=\"dataframe\">\n",
       "  <thead>\n",
       "    <tr style=\"text-align: right;\">\n",
       "      <th></th>\n",
       "      <th>Unique Value</th>\n",
       "      <th>Count</th>\n",
       "    </tr>\n",
       "  </thead>\n",
       "  <tbody>\n",
       "    <tr>\n",
       "      <th>66</th>\n",
       "      <td>0.160</td>\n",
       "      <td>9</td>\n",
       "    </tr>\n",
       "    <tr>\n",
       "      <th>92</th>\n",
       "      <td>0.165</td>\n",
       "      <td>6</td>\n",
       "    </tr>\n",
       "    <tr>\n",
       "      <th>23</th>\n",
       "      <td>0.170</td>\n",
       "      <td>21</td>\n",
       "    </tr>\n",
       "    <tr>\n",
       "      <th>90</th>\n",
       "      <td>0.175</td>\n",
       "      <td>6</td>\n",
       "    </tr>\n",
       "    <tr>\n",
       "      <th>40</th>\n",
       "      <td>0.180</td>\n",
       "      <td>14</td>\n",
       "    </tr>\n",
       "    <tr>\n",
       "      <th>...</th>\n",
       "      <td>...</td>\n",
       "      <td>...</td>\n",
       "    </tr>\n",
       "    <tr>\n",
       "      <th>101</th>\n",
       "      <td>0.695</td>\n",
       "      <td>5</td>\n",
       "    </tr>\n",
       "    <tr>\n",
       "      <th>48</th>\n",
       "      <td>0.700</td>\n",
       "      <td>12</td>\n",
       "    </tr>\n",
       "    <tr>\n",
       "      <th>98</th>\n",
       "      <td>0.705</td>\n",
       "      <td>6</td>\n",
       "    </tr>\n",
       "    <tr>\n",
       "      <th>22</th>\n",
       "      <td>0.710</td>\n",
       "      <td>22</td>\n",
       "    </tr>\n",
       "    <tr>\n",
       "      <th>116</th>\n",
       "      <td>0.715</td>\n",
       "      <td>1</td>\n",
       "    </tr>\n",
       "  </tbody>\n",
       "</table>\n",
       "<p>117 rows × 2 columns</p>\n",
       "</div>"
      ],
      "text/plain": [
       "     Unique Value  Count\n",
       "66          0.160      9\n",
       "92          0.165      6\n",
       "23          0.170     21\n",
       "90          0.175      6\n",
       "40          0.180     14\n",
       "..            ...    ...\n",
       "101         0.695      5\n",
       "48          0.700     12\n",
       "98          0.705      6\n",
       "22          0.710     22\n",
       "116         0.715      1\n",
       "\n",
       "[117 rows x 2 columns]"
      ]
     },
     "execution_count": 8,
     "metadata": {},
     "output_type": "execute_result"
    }
   ],
   "source": [
    "# Get the count of each unique value in the 'CCN_SS' column\n",
    "value_counts = d['CCN_SS'].value_counts()\n",
    "\n",
    "# Convert the Series to a DataFrame for better presentation\n",
    "value_counts_df = value_counts.reset_index()\n",
    "value_counts_df.columns = ['Unique Value', 'Count']\n",
    "value_counts_df.sort_values(by='Unique Value', inplace=True)\n",
    "value_counts_df"
   ]
  },
  {
   "cell_type": "code",
   "execution_count": 9,
   "metadata": {},
   "outputs": [],
   "source": [
    "d = d[(d['CCN_SS'] >= 0.37) & (d['CCN_SS'] <= 0.43)]"
   ]
  },
  {
   "cell_type": "code",
   "execution_count": 10,
   "metadata": {},
   "outputs": [],
   "source": [
    "transit_flights = [pd.Timestamp('2022-03-22').date(), pd.Timestamp('2022-05-18').date(), pd.Timestamp('2022-05-21').date(), pd.Timestamp('2022-05-31').date(), pd.Timestamp('2022-06-18').date()]\n",
    "df_winter = d[d['Time_Mid'].dt.month.isin([11, 12, 1, 2, 3, 4]) & (~d['Time_Mid'].dt.date.isin(transit_flights))]\n",
    "df_spring = d[d['Time_Mid'].dt.month.isin([5, 6]) & (np.logical_not((d['Time_Mid'].dt.month.isin([6])) & (d['Time_Mid'].dt.year.isin([2022])))) & (~d['Time_Mid'].dt.date.isin(transit_flights))]\n",
    "df_summer = d[d['Time_Mid'].dt.month.isin([8, 9]) & (~d['Time_Mid'].dt.date.isin(transit_flights))]\n",
    "df_bermuda = d[(d['Time_Mid'].dt.month.isin([6])) & (d['Time_Mid'].dt.year.isin([2022])) & (~d['Time_Mid'].dt.date.isin(transit_flights))]"
   ]
  },
  {
   "cell_type": "code",
   "execution_count": 11,
   "metadata": {},
   "outputs": [],
   "source": [
    "ds = [df_winter, df_spring, df_summer, df_bermuda]"
   ]
  },
  {
   "cell_type": "code",
   "execution_count": 12,
   "metadata": {},
   "outputs": [],
   "source": [
    "d_out = pd.DataFrame(columns = ['N', 'N_CCN', 'N_tot', 'D_c', 'k_obs', 'OMF'])"
   ]
  },
  {
   "cell_type": "code",
   "execution_count": 13,
   "metadata": {},
   "outputs": [],
   "source": [
    "def print_cell(d, dgts=0):\n",
    "    return f\"{d.median():.{dgts}f} ({d.quantile(.25):.{dgts}f}, {d.quantile(.75):.{dgts}f})\""
   ]
  },
  {
   "cell_type": "code",
   "execution_count": 14,
   "metadata": {},
   "outputs": [],
   "source": [
    "for i in range(0,4):\n",
    "    d_out.loc[i,'N'] = ds[i].shape[0]\n",
    "    d_out.loc[i,'N_CCN'] = print_cell(ds[i]['N_CCN_stdPT'])\n",
    "    d_out.loc[i,'N_tot'] = print_cell(ds[i]['N_tot'])\n",
    "    d_out.loc[i,'D_c'] = print_cell(ds[i]['D_a'], 1)\n",
    "    d_out.loc[i,'k_obs'] = print_cell(ds[i]['k_obs'], 2)\n",
    "    d_out.loc[i,'OMF'] = print_cell(ds[i]['OMF'], 2)"
   ]
  },
  {
   "cell_type": "code",
   "execution_count": 15,
   "metadata": {},
   "outputs": [
    {
     "data": {
      "application/vnd.microsoft.datawrangler.viewer.v0+json": {
       "columns": [
        {
         "name": "index",
         "rawType": "int64",
         "type": "integer"
        },
        {
         "name": "N",
         "rawType": "object",
         "type": "unknown"
        },
        {
         "name": "N_CCN",
         "rawType": "object",
         "type": "string"
        },
        {
         "name": "N_tot",
         "rawType": "object",
         "type": "string"
        },
        {
         "name": "D_c",
         "rawType": "object",
         "type": "string"
        },
        {
         "name": "k_obs",
         "rawType": "object",
         "type": "string"
        },
        {
         "name": "OMF",
         "rawType": "object",
         "type": "string"
        }
       ],
       "conversionMethod": "pd.DataFrame",
       "ref": "940abcf8-d495-4de6-8ece-13e5abef628b",
       "rows": [
        [
         "0",
         "4969",
         "460 (224, 817)",
         "1596 (827, 3294)",
         "75.0 (64.6, 88.7)",
         "0.29 (0.17, 0.47)",
         "0.46 (0.35, 0.59)"
        ],
        [
         "1",
         "3407",
         "488 (272, 907)",
         "1037 (556, 2142)",
         "78.0 (65.0, 86.4)",
         "0.27 (0.20, 0.47)",
         "0.58 (0.33, 0.73)"
        ],
        [
         "2",
         "33",
         "652 (239, 1344)",
         "1576 (968, 2367)",
         "74.7 (64.1, 105.4)",
         "0.29 (0.10, 0.49)",
         "0.64 (0.59, 0.74)"
        ],
        [
         "3",
         "785",
         "309 (246, 421)",
         "486 (382, 639)",
         "46.0 (41.2, 52.1)",
         "1.33 (0.91, 1.85)",
         "0.26 (0.17, 0.44)"
        ]
       ],
       "shape": {
        "columns": 6,
        "rows": 4
       }
      },
      "text/html": [
       "<div>\n",
       "<style scoped>\n",
       "    .dataframe tbody tr th:only-of-type {\n",
       "        vertical-align: middle;\n",
       "    }\n",
       "\n",
       "    .dataframe tbody tr th {\n",
       "        vertical-align: top;\n",
       "    }\n",
       "\n",
       "    .dataframe thead th {\n",
       "        text-align: right;\n",
       "    }\n",
       "</style>\n",
       "<table border=\"1\" class=\"dataframe\">\n",
       "  <thead>\n",
       "    <tr style=\"text-align: right;\">\n",
       "      <th></th>\n",
       "      <th>N</th>\n",
       "      <th>N_CCN</th>\n",
       "      <th>N_tot</th>\n",
       "      <th>D_c</th>\n",
       "      <th>k_obs</th>\n",
       "      <th>OMF</th>\n",
       "    </tr>\n",
       "  </thead>\n",
       "  <tbody>\n",
       "    <tr>\n",
       "      <th>0</th>\n",
       "      <td>4969</td>\n",
       "      <td>460 (224, 817)</td>\n",
       "      <td>1596 (827, 3294)</td>\n",
       "      <td>75.0 (64.6, 88.7)</td>\n",
       "      <td>0.29 (0.17, 0.47)</td>\n",
       "      <td>0.46 (0.35, 0.59)</td>\n",
       "    </tr>\n",
       "    <tr>\n",
       "      <th>1</th>\n",
       "      <td>3407</td>\n",
       "      <td>488 (272, 907)</td>\n",
       "      <td>1037 (556, 2142)</td>\n",
       "      <td>78.0 (65.0, 86.4)</td>\n",
       "      <td>0.27 (0.20, 0.47)</td>\n",
       "      <td>0.58 (0.33, 0.73)</td>\n",
       "    </tr>\n",
       "    <tr>\n",
       "      <th>2</th>\n",
       "      <td>33</td>\n",
       "      <td>652 (239, 1344)</td>\n",
       "      <td>1576 (968, 2367)</td>\n",
       "      <td>74.7 (64.1, 105.4)</td>\n",
       "      <td>0.29 (0.10, 0.49)</td>\n",
       "      <td>0.64 (0.59, 0.74)</td>\n",
       "    </tr>\n",
       "    <tr>\n",
       "      <th>3</th>\n",
       "      <td>785</td>\n",
       "      <td>309 (246, 421)</td>\n",
       "      <td>486 (382, 639)</td>\n",
       "      <td>46.0 (41.2, 52.1)</td>\n",
       "      <td>1.33 (0.91, 1.85)</td>\n",
       "      <td>0.26 (0.17, 0.44)</td>\n",
       "    </tr>\n",
       "  </tbody>\n",
       "</table>\n",
       "</div>"
      ],
      "text/plain": [
       "      N            N_CCN             N_tot                 D_c  \\\n",
       "0  4969   460 (224, 817)  1596 (827, 3294)   75.0 (64.6, 88.7)   \n",
       "1  3407   488 (272, 907)  1037 (556, 2142)   78.0 (65.0, 86.4)   \n",
       "2    33  652 (239, 1344)  1576 (968, 2367)  74.7 (64.1, 105.4)   \n",
       "3   785   309 (246, 421)    486 (382, 639)   46.0 (41.2, 52.1)   \n",
       "\n",
       "               k_obs                OMF  \n",
       "0  0.29 (0.17, 0.47)  0.46 (0.35, 0.59)  \n",
       "1  0.27 (0.20, 0.47)  0.58 (0.33, 0.73)  \n",
       "2  0.29 (0.10, 0.49)  0.64 (0.59, 0.74)  \n",
       "3  1.33 (0.91, 1.85)  0.26 (0.17, 0.44)  "
      ]
     },
     "execution_count": 15,
     "metadata": {},
     "output_type": "execute_result"
    }
   ],
   "source": [
    "d_out"
   ]
  },
  {
   "cell_type": "code",
   "execution_count": 16,
   "metadata": {},
   "outputs": [],
   "source": [
    "d_out.drop(index=2).to_excel('../tables/summary_stats.xlsx', index=False)"
   ]
  }
 ],
 "metadata": {
  "kernelspec": {
   "display_name": ".venv",
   "language": "python",
   "name": "python3"
  },
  "language_info": {
   "codemirror_mode": {
    "name": "ipython",
    "version": 3
   },
   "file_extension": ".py",
   "mimetype": "text/x-python",
   "name": "python",
   "nbconvert_exporter": "python",
   "pygments_lexer": "ipython3",
   "version": "3.13.0"
  }
 },
 "nbformat": 4,
 "nbformat_minor": 2
}
