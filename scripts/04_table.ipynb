{
 "cells": [
  {
   "cell_type": "code",
   "execution_count": 118,
   "metadata": {},
   "outputs": [],
   "source": [
    "import pandas as pd\n",
    "import numpy as np"
   ]
  },
  {
   "cell_type": "code",
   "execution_count": 119,
   "metadata": {},
   "outputs": [],
   "source": [
    "d = pd.read_csv('../tables/merged_final_non_org_fixed.csv', parse_dates=['Time_Mid'])"
   ]
  },
  {
   "cell_type": "code",
   "execution_count": 120,
   "metadata": {},
   "outputs": [],
   "source": [
    "bin_labels = ['SMPS_Bin02', 'SMPS_Bin03', 'SMPS_Bin04', 'SMPS_Bin05',\n",
    "       'SMPS_Bin06', 'SMPS_Bin07', 'SMPS_Bin08', 'SMPS_Bin09', 'SMPS_Bin10',\n",
    "       'SMPS_Bin11', 'SMPS_Bin12', 'SMPS_Bin13', 'SMPS_Bin14', 'SMPS_Bin15',\n",
    "       'SMPS_Bin16', 'SMPS_Bin17', 'SMPS_Bin18', 'SMPS_Bin19', 'SMPS_Bin20',\n",
    "       'SMPS_Bin21', 'SMPS_Bin22', 'SMPS_Bin23', 'SMPS_Bin24', 'SMPS_Bin25',\n",
    "       'SMPS_Bin26', 'SMPS_Bin27', 'SMPS_Bin28', 'SMPS_Bin29', 'SMPS_Bin30', 'LAS_Bin01', 'LAS_Bin02', 'LAS_Bin03', 'LAS_Bin04', 'LAS_Bin05',\n",
    "       'LAS_Bin06', 'LAS_Bin07', 'LAS_Bin08', 'LAS_Bin09', 'LAS_Bin10',\n",
    "       'LAS_Bin11', 'LAS_Bin12', 'LAS_Bin13', 'LAS_Bin14', 'LAS_Bin15',\n",
    "       'LAS_Bin16', 'LAS_Bin17', 'LAS_Bin18', 'LAS_Bin19', 'LAS_Bin20',\n",
    "       'LAS_Bin21', 'LAS_Bin22', 'LAS_Bin23', 'LAS_Bin24', 'LAS_Bin25',\n",
    "       'LAS_Bin26']\n",
    "\n",
    "lower_bounds = [3.36, 3.76, 4.22, 4.74, 5.32, 5.97, 6.69, 7.51, 8.43, 9.46, 10.6, 11.9, 13.4, 15.0, 16.8, 18.9, 21.2, 23.8, 26.7, 29.9, 33.6, 37.6, 42.2, 47.4, 53.2, 59.7, 66.9, 75.1, 84.3, 93.9, 106.1, 119.0, 133.6, 149.9, 168.2, 188.7, 211.7, 237.5, 266.5, 299.0, 335.5, 376.5, 422.4, 473.9, 531.8, 596.6, 669.5, 751.1, 842.8, 945.6, 1129.5, 1421.9, 1790.1, 2253.6, 2837.1]\n",
    "upper_bounds = [3.76, 4.22, 4.74, 5.32, 5.97, 6.69, 7.51, 8.43, 9.46, 10.6, 11.9, 13.4, 15.0, 16.8, 18.9, 21.2, 23.8, 26.7, 29.9, 33.6, 37.6, 42.2, 47.4, 53.2, 59.7, 66.9, 75.1, 84.3, 94.0, 106.1, 119.0, 133.6, 149.9, 168.2, 188.7, 211.7, 237.5, 266.5, 299.0, 335.5, 376.5, 422.4, 473.9, 531.8, 596.6, 669.5, 751.1, 842.8, 945.6, 1129.5, 1421.9, 1790.1, 2253.6, 2837.1, 3487.5]\n",
    "\n",
    "dlogd=[]\n",
    "for i in range(0,len(lower_bounds)):\n",
    "       dlogd.append(np.log10(upper_bounds[i]) - np.log10(lower_bounds[i]))\n",
    "\n",
    "d['N_tot'] = (d[bin_labels] * dlogd).sum(axis=1)\n",
    "d['OMF'] = d['Org_Ave_IsoK_STP'] / d['ams_tot']\n",
    "d['f_SMPS_LAS'] = d[bin_labels].notna().mean(axis=1)"
   ]
  },
  {
   "cell_type": "code",
   "execution_count": 121,
   "metadata": {},
   "outputs": [],
   "source": [
    "d = d[d['f_SMPS_LAS'] > .95]"
   ]
  },
  {
   "cell_type": "code",
   "execution_count": 122,
   "metadata": {},
   "outputs": [],
   "source": [
    "d = d.dropna(subset=['N_CCN_stdPT', 'N_tot', 'D_a', 'k_obs', 'OMF'])"
   ]
  },
  {
   "cell_type": "code",
   "execution_count": 123,
   "metadata": {},
   "outputs": [],
   "source": [
    "transit_flights = [pd.Timestamp('2022-03-22').date(), pd.Timestamp('2022-05-18').date(), pd.Timestamp('2022-05-21').date(), pd.Timestamp('2022-05-31').date(), pd.Timestamp('2022-06-18').date()]\n",
    "df_winter = d[d['Time_Mid'].dt.month.isin([11, 12, 1, 2, 3, 4]) & (~d['Time_Mid'].dt.date.isin(transit_flights))]\n",
    "df_spring = d[d['Time_Mid'].dt.month.isin([5, 6]) & (np.logical_not((d['Time_Mid'].dt.month.isin([6])) & (d['Time_Mid'].dt.year.isin([2022])))) & (~d['Time_Mid'].dt.date.isin(transit_flights))]\n",
    "df_summer = d[d['Time_Mid'].dt.month.isin([8, 9]) & (~d['Time_Mid'].dt.date.isin(transit_flights))]\n",
    "df_bermuda = d[(d['Time_Mid'].dt.month.isin([6])) & (d['Time_Mid'].dt.year.isin([2022])) & (~d['Time_Mid'].dt.date.isin(transit_flights))]"
   ]
  },
  {
   "cell_type": "code",
   "execution_count": 124,
   "metadata": {},
   "outputs": [],
   "source": [
    "ds = [df_winter, df_spring, df_summer, df_bermuda]"
   ]
  },
  {
   "cell_type": "code",
   "execution_count": 125,
   "metadata": {},
   "outputs": [],
   "source": [
    "d_out = pd.DataFrame(columns = ['N', 'N_CCN', 'N_tot', 'D_c', 'k_obs', 'OMF'])"
   ]
  },
  {
   "cell_type": "code",
   "execution_count": 126,
   "metadata": {},
   "outputs": [],
   "source": [
    "def print_cell(d, dgts=0):\n",
    "    return f\"{d.median():.{dgts}f} ({d.quantile(.25):.{dgts}f}, {d.quantile(.75):.{dgts}f})\""
   ]
  },
  {
   "cell_type": "code",
   "execution_count": 127,
   "metadata": {},
   "outputs": [],
   "source": [
    "for i in range(0,4):\n",
    "    d_out.loc[i,'N'] = ds[i].shape[0]\n",
    "    d_out.loc[i,'N_CCN'] = print_cell(ds[i]['N_CCN_stdPT'])\n",
    "    d_out.loc[i,'N_tot'] = print_cell(ds[i]['N_tot'])\n",
    "    d_out.loc[i,'D_c'] = print_cell(ds[i]['D_a'], 1)\n",
    "    d_out.loc[i,'k_obs'] = print_cell(ds[i]['k_obs'], 2)\n",
    "    d_out.loc[i,'OMF'] = print_cell(ds[i]['OMF'], 2)"
   ]
  },
  {
   "cell_type": "code",
   "execution_count": 128,
   "metadata": {},
   "outputs": [
    {
     "data": {
      "application/vnd.microsoft.datawrangler.viewer.v0+json": {
       "columns": [
        {
         "name": "index",
         "rawType": "int64",
         "type": "integer"
        },
        {
         "name": "N",
         "rawType": "object",
         "type": "unknown"
        },
        {
         "name": "N_CCN",
         "rawType": "object",
         "type": "string"
        },
        {
         "name": "N_tot",
         "rawType": "object",
         "type": "string"
        },
        {
         "name": "D_c",
         "rawType": "object",
         "type": "string"
        },
        {
         "name": "k_obs",
         "rawType": "object",
         "type": "string"
        },
        {
         "name": "OMF",
         "rawType": "object",
         "type": "string"
        }
       ],
       "conversionMethod": "pd.DataFrame",
       "ref": "fb10e8f3-c2ec-406c-8adc-6687a59ac78e",
       "rows": [
        [
         "0",
         "5757",
         "475 (235, 826)",
         "1714 (868, 3512)",
         "74.9 (63.5, 89.2)",
         "0.30 (0.17, 0.48)",
         "0.46 (0.35, 0.58)"
        ],
        [
         "1",
         "3851",
         "512 (284, 974)",
         "1104 (576, 2232)",
         "76.2 (62.1, 86.0)",
         "0.27 (0.19, 0.46)",
         "0.58 (0.34, 0.73)"
        ],
        [
         "2",
         "472",
         "744 (275, 1262)",
         "1686 (1095, 2261)",
         "77.9 (58.7, 123.4)",
         "0.24 (0.14, 0.36)",
         "0.66 (0.59, 0.74)"
        ],
        [
         "3",
         "1542",
         "357 (268, 495)",
         "591 (426, 956)",
         "49.1 (42.3, 62.0)",
         "0.74 (0.25, 1.41)",
         "0.35 (0.20, 0.56)"
        ]
       ],
       "shape": {
        "columns": 6,
        "rows": 4
       }
      },
      "text/html": [
       "<div>\n",
       "<style scoped>\n",
       "    .dataframe tbody tr th:only-of-type {\n",
       "        vertical-align: middle;\n",
       "    }\n",
       "\n",
       "    .dataframe tbody tr th {\n",
       "        vertical-align: top;\n",
       "    }\n",
       "\n",
       "    .dataframe thead th {\n",
       "        text-align: right;\n",
       "    }\n",
       "</style>\n",
       "<table border=\"1\" class=\"dataframe\">\n",
       "  <thead>\n",
       "    <tr style=\"text-align: right;\">\n",
       "      <th></th>\n",
       "      <th>N</th>\n",
       "      <th>N_CCN</th>\n",
       "      <th>N_tot</th>\n",
       "      <th>D_c</th>\n",
       "      <th>k_obs</th>\n",
       "      <th>OMF</th>\n",
       "    </tr>\n",
       "  </thead>\n",
       "  <tbody>\n",
       "    <tr>\n",
       "      <th>0</th>\n",
       "      <td>5757</td>\n",
       "      <td>475 (235, 826)</td>\n",
       "      <td>1714 (868, 3512)</td>\n",
       "      <td>74.9 (63.5, 89.2)</td>\n",
       "      <td>0.30 (0.17, 0.48)</td>\n",
       "      <td>0.46 (0.35, 0.58)</td>\n",
       "    </tr>\n",
       "    <tr>\n",
       "      <th>1</th>\n",
       "      <td>3851</td>\n",
       "      <td>512 (284, 974)</td>\n",
       "      <td>1104 (576, 2232)</td>\n",
       "      <td>76.2 (62.1, 86.0)</td>\n",
       "      <td>0.27 (0.19, 0.46)</td>\n",
       "      <td>0.58 (0.34, 0.73)</td>\n",
       "    </tr>\n",
       "    <tr>\n",
       "      <th>2</th>\n",
       "      <td>472</td>\n",
       "      <td>744 (275, 1262)</td>\n",
       "      <td>1686 (1095, 2261)</td>\n",
       "      <td>77.9 (58.7, 123.4)</td>\n",
       "      <td>0.24 (0.14, 0.36)</td>\n",
       "      <td>0.66 (0.59, 0.74)</td>\n",
       "    </tr>\n",
       "    <tr>\n",
       "      <th>3</th>\n",
       "      <td>1542</td>\n",
       "      <td>357 (268, 495)</td>\n",
       "      <td>591 (426, 956)</td>\n",
       "      <td>49.1 (42.3, 62.0)</td>\n",
       "      <td>0.74 (0.25, 1.41)</td>\n",
       "      <td>0.35 (0.20, 0.56)</td>\n",
       "    </tr>\n",
       "  </tbody>\n",
       "</table>\n",
       "</div>"
      ],
      "text/plain": [
       "      N            N_CCN              N_tot                 D_c  \\\n",
       "0  5757   475 (235, 826)   1714 (868, 3512)   74.9 (63.5, 89.2)   \n",
       "1  3851   512 (284, 974)   1104 (576, 2232)   76.2 (62.1, 86.0)   \n",
       "2   472  744 (275, 1262)  1686 (1095, 2261)  77.9 (58.7, 123.4)   \n",
       "3  1542   357 (268, 495)     591 (426, 956)   49.1 (42.3, 62.0)   \n",
       "\n",
       "               k_obs                OMF  \n",
       "0  0.30 (0.17, 0.48)  0.46 (0.35, 0.58)  \n",
       "1  0.27 (0.19, 0.46)  0.58 (0.34, 0.73)  \n",
       "2  0.24 (0.14, 0.36)  0.66 (0.59, 0.74)  \n",
       "3  0.74 (0.25, 1.41)  0.35 (0.20, 0.56)  "
      ]
     },
     "execution_count": 128,
     "metadata": {},
     "output_type": "execute_result"
    }
   ],
   "source": [
    "d_out"
   ]
  },
  {
   "cell_type": "code",
   "execution_count": 131,
   "metadata": {},
   "outputs": [],
   "source": [
    "d_out.to_excel('../tables/summary_stats.xlsx', index=False)"
   ]
  }
 ],
 "metadata": {
  "kernelspec": {
   "display_name": ".venv",
   "language": "python",
   "name": "python3"
  },
  "language_info": {
   "codemirror_mode": {
    "name": "ipython",
    "version": 3
   },
   "file_extension": ".py",
   "mimetype": "text/x-python",
   "name": "python",
   "nbconvert_exporter": "python",
   "pygments_lexer": "ipython3",
   "version": "3.13.0"
  }
 },
 "nbformat": 4,
 "nbformat_minor": 2
}
