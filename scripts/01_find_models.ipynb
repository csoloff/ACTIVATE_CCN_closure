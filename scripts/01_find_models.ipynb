{
 "cells": [
  {
   "cell_type": "code",
   "execution_count": 1,
   "metadata": {},
   "outputs": [],
   "source": [
    "import pandas as pd"
   ]
  },
  {
   "cell_type": "code",
   "execution_count": 2,
   "metadata": {},
   "outputs": [],
   "source": [
    "times = pd.read_csv('../tables/merged_final_non_org.csv', parse_dates=['Time_Mid'])['Time_Mid']"
   ]
  },
  {
   "cell_type": "code",
   "execution_count": 3,
   "metadata": {},
   "outputs": [],
   "source": [
    "unique_days = times.dt.date.unique().tolist()\n",
    "formatted_dates = [\n",
    "    f\"{date.strftime('%b').lower()}{date.strftime('%y')}.w{(date.day - 1) // 7 + 1}\" \n",
    "    for date in unique_days\n",
    "]"
   ]
  },
  {
   "cell_type": "code",
   "execution_count": 4,
   "metadata": {},
   "outputs": [
    {
     "data": {
      "text/plain": [
       "['feb20.w2',\n",
       " 'feb20.w3',\n",
       " 'feb20.w3',\n",
       " 'feb20.w3',\n",
       " 'feb20.w4',\n",
       " 'feb20.w4',\n",
       " 'feb20.w4',\n",
       " 'feb20.w4',\n",
       " 'mar20.w1',\n",
       " 'mar20.w1',\n",
       " 'mar20.w1',\n",
       " 'mar20.w2',\n",
       " 'mar20.w2',\n",
       " 'mar20.w2',\n",
       " 'mar20.w2',\n",
       " 'aug20.w2',\n",
       " 'aug20.w3',\n",
       " 'aug20.w3',\n",
       " 'aug20.w3',\n",
       " 'aug20.w4',\n",
       " 'aug20.w4',\n",
       " 'aug20.w4',\n",
       " 'jan21.w5',\n",
       " 'feb21.w1',\n",
       " 'may21.w2',\n",
       " 'may21.w2',\n",
       " 'may21.w3',\n",
       " 'may21.w3',\n",
       " 'may21.w3',\n",
       " 'may21.w3',\n",
       " 'may21.w3',\n",
       " 'may21.w4',\n",
       " 'may21.w4',\n",
       " 'jun21.w1',\n",
       " 'jun21.w1',\n",
       " 'jun21.w1',\n",
       " 'jun21.w1',\n",
       " 'jun21.w2',\n",
       " 'jun21.w3',\n",
       " 'jun21.w3',\n",
       " 'jun21.w3',\n",
       " 'jun21.w4',\n",
       " 'jun21.w4',\n",
       " 'jun21.w4',\n",
       " 'jun21.w4',\n",
       " 'jun21.w5',\n",
       " 'jun21.w5',\n",
       " 'dec21.w1',\n",
       " 'dec21.w2',\n",
       " 'dec21.w2',\n",
       " 'jan22.w2',\n",
       " 'jan22.w2',\n",
       " 'jan22.w3',\n",
       " 'jan22.w3',\n",
       " 'jan22.w3',\n",
       " 'jan22.w4',\n",
       " 'jan22.w4',\n",
       " 'jan22.w4',\n",
       " 'feb22.w1',\n",
       " 'feb22.w1',\n",
       " 'feb22.w1',\n",
       " 'feb22.w3',\n",
       " 'feb22.w3',\n",
       " 'feb22.w3',\n",
       " 'feb22.w4',\n",
       " 'feb22.w4',\n",
       " 'mar22.w1',\n",
       " 'mar22.w1',\n",
       " 'mar22.w1',\n",
       " 'mar22.w1',\n",
       " 'mar22.w2',\n",
       " 'mar22.w2',\n",
       " 'mar22.w3',\n",
       " 'mar22.w4',\n",
       " 'mar22.w4',\n",
       " 'mar22.w4',\n",
       " 'may22.w1',\n",
       " 'may22.w1',\n",
       " 'may22.w2',\n",
       " 'may22.w3',\n",
       " 'may22.w3',\n",
       " 'may22.w3',\n",
       " 'may22.w3',\n",
       " 'may22.w3',\n",
       " 'may22.w5',\n",
       " 'jun22.w1',\n",
       " 'jun22.w1',\n",
       " 'jun22.w1',\n",
       " 'jun22.w1',\n",
       " 'jun22.w2',\n",
       " 'jun22.w2',\n",
       " 'jun22.w2',\n",
       " 'jun22.w2',\n",
       " 'jun22.w2',\n",
       " 'jun22.w3',\n",
       " 'jun22.w3']"
      ]
     },
     "execution_count": 4,
     "metadata": {},
     "output_type": "execute_result"
    }
   ],
   "source": [
    "formatted_dates"
   ]
  },
  {
   "cell_type": "code",
   "execution_count": 31,
   "metadata": {},
   "outputs": [],
   "source": [
    "unique_sorted_dates = set(formatted_dates)"
   ]
  },
  {
   "cell_type": "code",
   "execution_count": 32,
   "metadata": {},
   "outputs": [
    {
     "data": {
      "text/plain": [
       "{'aug20.w2',\n",
       " 'aug20.w3',\n",
       " 'aug20.w4',\n",
       " 'dec21.w1',\n",
       " 'dec21.w2',\n",
       " 'feb20.w2',\n",
       " 'feb20.w3',\n",
       " 'feb20.w4',\n",
       " 'feb21.w1',\n",
       " 'feb22.w1',\n",
       " 'feb22.w3',\n",
       " 'feb22.w4',\n",
       " 'jan21.w5',\n",
       " 'jan22.w2',\n",
       " 'jan22.w3',\n",
       " 'jan22.w4',\n",
       " 'jun21.w1',\n",
       " 'jun21.w2',\n",
       " 'jun21.w3',\n",
       " 'jun21.w4',\n",
       " 'jun21.w5',\n",
       " 'jun22.w1',\n",
       " 'jun22.w2',\n",
       " 'jun22.w3',\n",
       " 'mar20.w1',\n",
       " 'mar20.w2',\n",
       " 'mar22.w1',\n",
       " 'mar22.w2',\n",
       " 'mar22.w3',\n",
       " 'mar22.w4',\n",
       " 'may21.w2',\n",
       " 'may21.w3',\n",
       " 'may21.w4',\n",
       " 'may22.w1',\n",
       " 'may22.w2',\n",
       " 'may22.w3',\n",
       " 'may22.w5'}"
      ]
     },
     "execution_count": 32,
     "metadata": {},
     "output_type": "execute_result"
    }
   ],
   "source": [
    "unique_sorted_dates"
   ]
  }
 ],
 "metadata": {
  "kernelspec": {
   "display_name": ".venv",
   "language": "python",
   "name": "python3"
  },
  "language_info": {
   "codemirror_mode": {
    "name": "ipython",
    "version": 3
   },
   "file_extension": ".py",
   "mimetype": "text/x-python",
   "name": "python",
   "nbconvert_exporter": "python",
   "pygments_lexer": "ipython3",
   "version": "3.13.0"
  }
 },
 "nbformat": 4,
 "nbformat_minor": 2
}
