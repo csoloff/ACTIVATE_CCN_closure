{
 "cells": [
  {
   "cell_type": "code",
   "execution_count": 1,
   "metadata": {},
   "outputs": [],
   "source": [
    "import numpy as np"
   ]
  },
  {
   "cell_type": "code",
   "execution_count": 2,
   "metadata": {},
   "outputs": [],
   "source": [
    "def Dc_calculator(ss, kappa):\n",
    "    \"\"\"\n",
    "    calculate critical diameter from kappa (hygroscopicity) and supersaturation\n",
    "    rewrite from GK's MATLAB code\n",
    "\n",
    "    Parameters\n",
    "    ----------\n",
    "    ss : float\n",
    "        super saturation [%]\n",
    "    kappa : float\n",
    "        hygroscopicity\n",
    "\n",
    "    Returns\n",
    "    -------\n",
    "    dc : float\n",
    "        critical diameter [nm]\n",
    "\n",
    "    \"\"\"\n",
    "    \n",
    "    if np.isnan(ss) or np.isnan(kappa):\n",
    "        return(np.nan)\n",
    "    \n",
    "    if ss<=0 or kappa<=0:\n",
    "        print('WARNING: either ss or kappa input is not positive, return NaN')\n",
    "        return(np.nan)\n",
    "    \n",
    "    deltaaa=1e-12\n",
    "    A = 2.1e-09       # constant\n",
    "    Ds_nm = 0.0\n",
    "    \n",
    "    Ds=7e-09    #dry particle dia, first initial value in meters \n",
    "    \n",
    "    Critical_SS3 = -1.0\n",
    "    ddd = -1.0\n",
    "    \n",
    "    \n",
    "    Critical_SSc_store = np.zeros(60)\n",
    "    Ds_store = np.zeros(60)\n",
    "    \n",
    "    for ii in range(0,30):\n",
    "        Ds1=Ds\n",
    "                 \n",
    "        Dwet2 = np.arange(Ds, 1e-6, 1e-9) # initiate with D = Ds, because D or wet dia is always > than Ds\n",
    "        RHS_satratiom1 = (((Dwet2**3-Ds**3)/(Dwet2**3-Ds**3*(1-kappa)))*np.exp(A/Dwet2))-1\n",
    "        \n",
    "        Critical_SS1= np.mean(np.max(RHS_satratiom1))*100\n",
    "        Critical_SSc_store[2*ii] = Critical_SS1\n",
    "               \n",
    "        Ds  = Ds +  deltaaa  # increment the D value by deltaaa to find local slope    \n",
    "        RHS_satratiom1 = ( ((Dwet2**3-Ds**3)/(Dwet2**3-Ds**3*(1-kappa))) * np.exp(A/Dwet2) )-1\n",
    "        \n",
    "        Critical_SS2= np.mean(np.max(RHS_satratiom1))*100\n",
    "        \n",
    "        Critical_SSc_store[2*ii+1] = Critical_SS2 # match at what i value CCNc SScrit matches, at that i value find what kappa was\n",
    "        Ds_store[2*ii]=Ds1\n",
    "        Ds_store[2*ii+1]=Ds\n",
    "    \n",
    "        dist=(ss-Critical_SS1)*(deltaaa)/(Critical_SS2-Critical_SS1)  # dist is the difference between where Ds was at the begining of the loop and where the predicted zero is.\n",
    "        Ds=Ds1+dist\n",
    "        \n",
    "        if ii>1 and (np.abs(Critical_SS3-Critical_SS2)<1e-5 or ((dist*ddd<0) and dist<1e-12)):\n",
    "            break\n",
    "    \n",
    "        Critical_SS3=Critical_SS2\n",
    "        #This uses newton-iteration to find zeros. it tries to diminish\n",
    "        #(ss_crit-Critical_SSc_store(2*i+1) quickly by approximating where the zero\n",
    "        #would be based on the slope.\n",
    "        ddd=dist\n",
    "        \n",
    "    # print(ii)\n",
    "    diff = np.abs(Critical_SSc_store-ss)\n",
    "    numb = np.argmin(diff)\n",
    "    Ds_nm = Ds_store[numb]*1e9\n",
    "    # numb = np.where(diff == diff.min())\n",
    "    # if len(numb)!=1:\n",
    "        # print(diff)\n",
    "        # Ds_nm = np.mean(Ds_store[numb])*1e9\n",
    "    # else:\n",
    "        # Ds_nm = Ds_store[numb[0]]*1e9\n",
    "        \n",
    "    return(Ds_nm)"
   ]
  },
  {
   "cell_type": "code",
   "execution_count": 6,
   "metadata": {},
   "outputs": [
    {
     "data": {
      "text/plain": [
       "np.float64(79.30806282116042)"
      ]
     },
     "execution_count": 6,
     "metadata": {},
     "output_type": "execute_result"
    }
   ],
   "source": [
    "Dc_calculator(0.37, .2)"
   ]
  }
 ],
 "metadata": {
  "kernelspec": {
   "display_name": ".venv",
   "language": "python",
   "name": "python3"
  },
  "language_info": {
   "codemirror_mode": {
    "name": "ipython",
    "version": 3
   },
   "file_extension": ".py",
   "mimetype": "text/x-python",
   "name": "python",
   "nbconvert_exporter": "python",
   "pygments_lexer": "ipython3",
   "version": "3.13.0"
  }
 },
 "nbformat": 4,
 "nbformat_minor": 2
}
