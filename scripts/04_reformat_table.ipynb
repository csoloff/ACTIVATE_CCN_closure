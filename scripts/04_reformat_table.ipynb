{
 "cells": [
  {
   "cell_type": "code",
   "execution_count": 1,
   "metadata": {},
   "outputs": [],
   "source": [
    "import pandas as pd"
   ]
  },
  {
   "cell_type": "code",
   "execution_count": 2,
   "metadata": {},
   "outputs": [],
   "source": [
    "d = pd.read_csv('../tables/2024_03_11_merged_03.csv')"
   ]
  },
  {
   "cell_type": "code",
   "execution_count": 3,
   "metadata": {},
   "outputs": [],
   "source": [
    "d_out = d[['Time_Mid', 'CCN_SS',\n",
    " 'N_CCN_stdPT', 'D_a', 'D_c',\n",
    " 'k_obs', 'k', 'CCN_n_pred',\n",
    " 'nSMPS', 'nLAS_AmmSO4',\n",
    " 'Org_Ave_IsoK_STP',\n",
    " 'SO4_Ave_IsoK_STP',\n",
    " 'NO3_Ave_IsoK_STP',\n",
    " 'NH4_Ave_IsoK_STP',\n",
    " 'Chl_Ave_IsoK_STP',\n",
    " 'mz42_Ave_IsoK_STP',\n",
    " 'mz43_Ave_IsoK_STP',\n",
    " 'mz44_Ave_IsoK_STP',\n",
    " 'mz55_Ave_IsoK_STP',\n",
    " 'mz57_Ave_IsoK_STP',\n",
    " 'mz58_Ave_IsoK_STP',\n",
    " 'mz60_Ave_IsoK_STP',\n",
    " 'mz79_Ave_IsoK_STP',\n",
    " 'mz91_Ave_IsoK_STP',\n",
    " 'Latitude',\n",
    " 'Longitude',\n",
    " 'GPS_altitude',\n",
    " 'Pressure_Altitude',\n",
    " 'leg',\n",
    " 'Pitch',\n",
    " 'Roll',\n",
    " 'True_Heading',\n",
    " 'True_Air_Speed',\n",
    " 'Static_Air_Temp',\n",
    " 'IR_Surf_Temp',\n",
    " 'Static_Pressure',\n",
    " 'Wind_Speed',\n",
    " 'Wind_Direction',\n",
    " 'LWC_FCDP',\n",
    " 'ED-liquid_2DS',\n",
    " 'Ice_Flag_2DS',\n",
    " 'CO_ppm',\n",
    " 'Abs470_total',\n",
    " 'Abs532_total',\n",
    " 'Abs660_total',\n",
    " 'fRH550_RH20to80', 'SMPS_Bin01',\n",
    " 'SMPS_Bin02',\n",
    " 'SMPS_Bin03',\n",
    " 'SMPS_Bin04',\n",
    " 'SMPS_Bin05',\n",
    " 'SMPS_Bin06',\n",
    " 'SMPS_Bin07',\n",
    " 'SMPS_Bin08',\n",
    " 'SMPS_Bin09',\n",
    " 'SMPS_Bin10',\n",
    " 'SMPS_Bin11',\n",
    " 'SMPS_Bin12',\n",
    " 'SMPS_Bin13',\n",
    " 'SMPS_Bin14',\n",
    " 'SMPS_Bin15',\n",
    " 'SMPS_Bin16',\n",
    " 'SMPS_Bin17',\n",
    " 'SMPS_Bin18',\n",
    " 'SMPS_Bin19',\n",
    " 'SMPS_Bin20',\n",
    " 'SMPS_Bin21',\n",
    " 'SMPS_Bin22',\n",
    " 'SMPS_Bin23',\n",
    " 'SMPS_Bin24',\n",
    " 'SMPS_Bin25',\n",
    " 'SMPS_Bin26',\n",
    " 'SMPS_Bin27',\n",
    " 'SMPS_Bin28',\n",
    " 'SMPS_Bin29',\n",
    " 'SMPS_Bin30', 'LAS_Bin01',\n",
    " 'LAS_Bin02',\n",
    " 'LAS_Bin03',\n",
    " 'LAS_Bin04',\n",
    " 'LAS_Bin05',\n",
    " 'LAS_Bin06',\n",
    " 'LAS_Bin07',\n",
    " 'LAS_Bin08',\n",
    " 'LAS_Bin09',\n",
    " 'LAS_Bin10',\n",
    " 'LAS_Bin11',\n",
    " 'LAS_Bin12',\n",
    " 'LAS_Bin13',\n",
    " 'LAS_Bin14',\n",
    " 'LAS_Bin15',\n",
    " 'LAS_Bin16',\n",
    " 'LAS_Bin17',\n",
    " 'LAS_Bin18',\n",
    " 'LAS_Bin19',\n",
    " 'LAS_Bin20',\n",
    " 'LAS_Bin21',\n",
    " 'LAS_Bin22',\n",
    " 'LAS_Bin23',\n",
    " 'LAS_Bin24',\n",
    " 'LAS_Bin25',\n",
    " 'LAS_Bin26']].copy()"
   ]
  },
  {
   "cell_type": "code",
   "execution_count": 4,
   "metadata": {},
   "outputs": [],
   "source": [
    "d_out.rename(columns={'D_a':'D_c_obs', 'D_c':'D_c_pred', 'k_obs':'kappa_obs', 'k':'kappa_pred', 'CCN_n_pred':'N_CCN_pred'}, inplace=True)"
   ]
  },
  {
   "cell_type": "code",
   "execution_count": 6,
   "metadata": {},
   "outputs": [],
   "source": [
    "d_out.to_csv('../tables/2024_03_18_ACTIVATE_screened_data.csv', index=False)"
   ]
  }
 ],
 "metadata": {
  "kernelspec": {
   "display_name": ".venv",
   "language": "python",
   "name": "python3"
  },
  "language_info": {
   "codemirror_mode": {
    "name": "ipython",
    "version": 3
   },
   "file_extension": ".py",
   "mimetype": "text/x-python",
   "name": "python",
   "nbconvert_exporter": "python",
   "pygments_lexer": "ipython3",
   "version": "3.13.0"
  }
 },
 "nbformat": 4,
 "nbformat_minor": 2
}
