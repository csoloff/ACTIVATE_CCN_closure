{
 "cells": [
  {
   "cell_type": "code",
   "execution_count": 96,
   "metadata": {},
   "outputs": [],
   "source": [
    "import pandas as pd\n",
    "import numpy as np\n",
    "from scipy.optimize import minimize\n",
    "from scipy.stats import linregress\n",
    "from matplotlib import pyplot as plt"
   ]
  },
  {
   "cell_type": "code",
   "execution_count": 97,
   "metadata": {},
   "outputs": [],
   "source": [
    "d = pd.read_csv('../tables/merged_observed.csv')"
   ]
  },
  {
   "cell_type": "code",
   "execution_count": 98,
   "metadata": {},
   "outputs": [],
   "source": [
    "d = d[np.logical_not((d['Ice_Flag_2DS']==1) | (d['ED-liquid_2DS']>=60E-6) | (d['LWC_FCDP']>0.005) | (d['ams_tot'] < 0.04) | (d['N_CCN_stdPT'] < 50))].reset_index(drop=True)\n",
    "d['non_org_tot'] = d['SO4_Ave_IsoK_STP']+ d['NO3_Ave_IsoK_STP'] + d['NH4_Ave_IsoK_STP'] + d['Chl_Ave_IsoK_STP']\n",
    "d = d[d['non_org_tot']>0]\n",
    "#d = d[((d['CO_ppm']>0.075)) & (d['CO_ppm']<.1)]\n",
    "d = d[((d['CO_ppm']>0.175)) & (d['CO_ppm']<.2)]\n",
    "#d = d[(d['Org_Ave_IsoK_STP']>=0) & (d['SO4_Ave_IsoK_STP']>=0) & (d['NO3_Ave_IsoK_STP']>=0) & (d['NH4_Ave_IsoK_STP']>=0) & (d['Chl_Ave_IsoK_STP']>=0)].reset_index(drop=True)"
   ]
  },
  {
   "cell_type": "code",
   "execution_count": 99,
   "metadata": {},
   "outputs": [],
   "source": [
    "def calc_k(data, org_k, so4_k):\n",
    "    d = data.copy()\n",
    "    d['k'] = np.nan\n",
    "    d['Org_vc'] = d['Org_Ave_IsoK_STP'] / 1000\n",
    "    d['non_org_vc'] = d['non_org_tot'] / 1770\n",
    "    #d['NO3_vc'] = d['NO3_Ave_IsoK_STP'] / 1770\n",
    "    #d['NH4_vc'] = d['NH4_Ave_IsoK_STP'] / 1770\n",
    "    #d['Chl_vc'] = d['Chl_Ave_IsoK_STP'] / 2200\n",
    "\n",
    "    d['ams_tot_vc'] = d['Org_vc']+d['non_org_vc']#+d['NO3_vc']+d['NH4_vc']+d['Chl_vc']\n",
    "\n",
    "    d['k'] = org_k*d['Org_vc']/d['ams_tot_vc'] + so4_k*d['non_org_vc']/d['ams_tot_vc']# + no3_k*d['NO3_vc']/d['ams_tot_vc'] + nh4_k*d['NH4_vc']/d['ams_tot_vc'] + chl_k*d['Chl_vc']/d['ams_tot_vc']\n",
    "\n",
    "    return d"
   ]
  },
  {
   "cell_type": "code",
   "execution_count": 100,
   "metadata": {},
   "outputs": [
    {
     "name": "stdout",
     "output_type": "stream",
     "text": [
      "Optimized kappa values:\n",
      "org_k: 0.014728382575558596\n",
      "so4_k: 0.11453448366752095\n"
     ]
    }
   ],
   "source": [
    "# Define an objective function to minimize\n",
    "def objective(params, d):\n",
    "    org_k, so4_k = params\n",
    "    k_predicted = calc_k(d, org_k, so4_k)['k']\n",
    "    # Calculate the sum of squared differences\n",
    "    return np.sum((d['k_obs'] - k_predicted)**2)\n",
    "\n",
    "# Define initial guesses for the kappas\n",
    "initial_guess = [0.1, 0.1]\n",
    "\n",
    "d_sub = d#[(d['k_obs']>0.0)&(d['k_obs']<.1)]\n",
    "\n",
    "# Perform the optimization\n",
    "result = minimize(objective, initial_guess, args=(d_sub), method='Nelder-Mead')\n",
    "\n",
    "# Extract the optimized kappa values\n",
    "org_k_opt, so4_k_opt = result.x\n",
    "\n",
    "print(\"Optimized kappa values:\")\n",
    "print(\"org_k:\", org_k_opt)\n",
    "print(\"so4_k:\", so4_k_opt)"
   ]
  },
  {
   "cell_type": "code",
   "execution_count": 101,
   "metadata": {},
   "outputs": [
    {
     "data": {
      "text/plain": [
       "array([0.01472838, 0.11453448])"
      ]
     },
     "execution_count": 101,
     "metadata": {},
     "output_type": "execute_result"
    }
   ],
   "source": [
    "result.x"
   ]
  },
  {
   "cell_type": "code",
   "execution_count": 102,
   "metadata": {},
   "outputs": [
    {
     "data": {
      "image/png": "[encoded data removed]",
      "text/plain": [
       "<Figure size 640x480 with 1 Axes>"
      ]
     },
     "metadata": {},
     "output_type": "display_data"
    }
   ],
   "source": [
    "d_sub = calc_k(d_sub, *result.x).dropna(subset=['k_obs', 'k'])\n",
    "# Fit a line to the data\n",
    "slope, intercept, r_value, _, _ = linregress(d_sub['k_obs'], d_sub['k'])\n",
    "r_squared = r_value ** 2\n",
    "\n",
    "# Plot the scatter and fitted line\n",
    "plt.scatter(d_sub['k_obs'], d_sub['k'], s=0.5)\n",
    "plt.plot(d_sub['k_obs'], slope * d_sub['k_obs'] + intercept, color=\"red\", label=f\"$m = {slope:.2f}$, $b = {intercept:.2f}$, $R^2 = {r_squared:.2f}$\")\n",
    "#plt.xlim([0, 0.2])\n",
    "#plt.ylim([0, 0.2])\n",
    "plt.xlabel(r\"Observed $\\kappa$\")\n",
    "plt.ylabel(r\"Calculated $\\kappa$\")\n",
    "plt.legend()\n",
    "plt.savefig('../figures/ams_fit.png', dpi=300)"
   ]
  }
 ],
 "metadata": {
  "kernelspec": {
   "display_name": ".venv",
   "language": "python",
   "name": "python3"
  },
  "language_info": {
   "codemirror_mode": {
    "name": "ipython",
    "version": 3
   },
   "file_extension": ".py",
   "mimetype": "text/x-python",
   "name": "python",
   "nbconvert_exporter": "python",
   "pygments_lexer": "ipython3",
   "version": "3.13.0"
  }
 },
 "nbformat": 4,
 "nbformat_minor": 2
}
